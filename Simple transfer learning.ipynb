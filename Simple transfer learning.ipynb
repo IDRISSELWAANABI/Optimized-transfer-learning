{
 "cells": [
  {
   "cell_type": "code",
   "execution_count": 1,
   "id": "2c5157b6",
   "metadata": {},
   "outputs": [
    {
     "name": "stderr",
     "output_type": "stream",
     "text": [
      "C:\\Users\\Idriss\\anaconda3\\lib\\site-packages\\pandas\\core\\arrays\\masked.py:60: UserWarning: Pandas requires version '1.3.6' or newer of 'bottleneck' (version '1.3.5' currently installed).\n",
      "  from pandas.core import (\n"
     ]
    }
   ],
   "source": [
    "import tensorflow as tf\n",
    "from tensorflow.keras.preprocessing.image import ImageDataGenerator\n",
    "from tensorflow.keras.applications import VGG16\n",
    "from tensorflow.keras.layers import Dense, Flatten\n",
    "from tensorflow.keras.models import Model\n",
    "from tensorflow.keras.optimizers import Adam\n",
    "import os\n"
   ]
  },
  {
   "cell_type": "code",
   "execution_count": 2,
   "id": "41bdc0a0",
   "metadata": {},
   "outputs": [
    {
     "name": "stdout",
     "output_type": "stream",
     "text": [
      "Found 557 images belonging to 2 classes.\n",
      "Found 140 images belonging to 2 classes.\n"
     ]
    }
   ],
   "source": [
    "base_dir = r\"C:\\Users\\Idriss\\Desktop\\PFA final sumbmission\\archive(2)\"\n",
    "train_dir = os.path.join(base_dir, 'train')\n",
    "test_dir = os.path.join(base_dir, 'test')\n",
    "IMG_SIZE = (150, 150)\n",
    "BATCH_SIZE = 32\n",
    "train_datagen = ImageDataGenerator(\n",
    "    rescale=1./255,\n",
    "    rotation_range=20,\n",
    "    width_shift_range=0.2,\n",
    "    height_shift_range=0.2,\n",
    "    shear_range=0.2,\n",
    "    zoom_range=0.2,\n",
    "    horizontal_flip=True,\n",
    "    fill_mode='nearest'\n",
    ")\n",
    "test_datagen = ImageDataGenerator(rescale=1./255)\n",
    "train_generator = train_datagen.flow_from_directory(\n",
    "    train_dir,\n",
    "    target_size=IMG_SIZE,\n",
    "    batch_size=BATCH_SIZE,\n",
    "    class_mode='binary'\n",
    ")\n",
    "\n",
    "test_generator = test_datagen.flow_from_directory(\n",
    "    test_dir,\n",
    "    target_size=IMG_SIZE,\n",
    "    batch_size=BATCH_SIZE,\n",
    "    class_mode='binary'\n",
    ")\n"
   ]
  },
  {
   "cell_type": "code",
   "execution_count": 3,
   "id": "cbc20d46",
   "metadata": {},
   "outputs": [],
   "source": [
    "# Load the VGG16 model without the top layer\n",
    "base_model = VGG16(weights='imagenet', include_top=False, input_shape=(150, 150, 3))\n",
    "\n",
    "# Freeze the layers except the last 4 layers\n",
    "for layer in base_model.layers[:-4]:\n",
    "    layer.trainable = False\n",
    "\n",
    "# Add custom layers on top of the base model\n",
    "x = base_model.output\n",
    "x = Flatten()(x)\n",
    "x = Dense(256, activation='relu')(x)\n",
    "x = Dense(1, activation='sigmoid')(x)\n",
    "\n",
    "# Create the model\n",
    "model = Model(inputs=base_model.input, outputs=x)\n",
    "\n",
    "# Compile the model\n",
    "model.compile(optimizer=Adam(learning_rate=1e-4),\n",
    "              loss='binary_crossentropy',\n",
    "              metrics=['accuracy'])\n"
   ]
  },
  {
   "cell_type": "code",
   "execution_count": 4,
   "id": "de863f01",
   "metadata": {},
   "outputs": [
    {
     "name": "stdout",
     "output_type": "stream",
     "text": [
      "Epoch 1/20\n",
      "17/17 [==============================] - 31s 2s/step - loss: 0.5833 - accuracy: 0.6686 - val_loss: 0.5272 - val_accuracy: 0.7500\n",
      "Epoch 2/20\n",
      "17/17 [==============================] - 29s 2s/step - loss: 0.3989 - accuracy: 0.8171 - val_loss: 0.4524 - val_accuracy: 0.7734\n",
      "Epoch 3/20\n",
      "17/17 [==============================] - 32s 2s/step - loss: 0.3133 - accuracy: 0.8610 - val_loss: 0.2931 - val_accuracy: 0.8438\n",
      "Epoch 4/20\n",
      "17/17 [==============================] - 32s 2s/step - loss: 0.2421 - accuracy: 0.8857 - val_loss: 0.4135 - val_accuracy: 0.8594\n",
      "Epoch 5/20\n",
      "17/17 [==============================] - 32s 2s/step - loss: 0.2092 - accuracy: 0.9200 - val_loss: 0.3374 - val_accuracy: 0.8281\n",
      "Epoch 6/20\n",
      "17/17 [==============================] - 32s 2s/step - loss: 0.1681 - accuracy: 0.9371 - val_loss: 0.3801 - val_accuracy: 0.7812\n",
      "Epoch 7/20\n",
      "17/17 [==============================] - 32s 2s/step - loss: 0.1266 - accuracy: 0.9543 - val_loss: 0.5511 - val_accuracy: 0.8359\n",
      "Epoch 8/20\n",
      "17/17 [==============================] - 32s 2s/step - loss: 0.2182 - accuracy: 0.9143 - val_loss: 0.4089 - val_accuracy: 0.7812\n",
      "Epoch 9/20\n",
      "17/17 [==============================] - 31s 2s/step - loss: 0.1310 - accuracy: 0.9581 - val_loss: 0.6927 - val_accuracy: 0.8203\n",
      "Epoch 10/20\n",
      "17/17 [==============================] - 32s 2s/step - loss: 0.1063 - accuracy: 0.9676 - val_loss: 0.3343 - val_accuracy: 0.8281\n",
      "Epoch 11/20\n",
      "17/17 [==============================] - 31s 2s/step - loss: 0.1040 - accuracy: 0.9600 - val_loss: 0.9995 - val_accuracy: 0.8125\n",
      "Epoch 12/20\n",
      "17/17 [==============================] - 32s 2s/step - loss: 0.0906 - accuracy: 0.9706 - val_loss: 0.4505 - val_accuracy: 0.8750\n",
      "Epoch 13/20\n",
      "17/17 [==============================] - 31s 2s/step - loss: 0.0433 - accuracy: 0.9848 - val_loss: 0.5976 - val_accuracy: 0.8594\n",
      "Epoch 14/20\n",
      "17/17 [==============================] - 32s 2s/step - loss: 0.0370 - accuracy: 0.9867 - val_loss: 0.7213 - val_accuracy: 0.8516\n",
      "Epoch 15/20\n",
      "17/17 [==============================] - 32s 2s/step - loss: 0.0382 - accuracy: 0.9829 - val_loss: 0.5191 - val_accuracy: 0.8594\n",
      "Epoch 16/20\n",
      "17/17 [==============================] - 32s 2s/step - loss: 0.0652 - accuracy: 0.9771 - val_loss: 0.6085 - val_accuracy: 0.8438\n",
      "Epoch 17/20\n",
      "17/17 [==============================] - 32s 2s/step - loss: 0.0332 - accuracy: 0.9886 - val_loss: 0.6845 - val_accuracy: 0.8438\n",
      "Epoch 18/20\n",
      "17/17 [==============================] - 33s 2s/step - loss: 0.0178 - accuracy: 0.9945 - val_loss: 0.7933 - val_accuracy: 0.8516\n",
      "Epoch 19/20\n",
      "17/17 [==============================] - 32s 2s/step - loss: 0.0472 - accuracy: 0.9829 - val_loss: 0.5025 - val_accuracy: 0.8672\n",
      "Epoch 20/20\n",
      "17/17 [==============================] - 32s 2s/step - loss: 0.0530 - accuracy: 0.9810 - val_loss: 0.8257 - val_accuracy: 0.8438\n"
     ]
    }
   ],
   "source": [
    "# Define the number of epochs\n",
    "EPOCHS = 20\n",
    "\n",
    "# Train the model\n",
    "history = model.fit(\n",
    "    train_generator,\n",
    "    steps_per_epoch=train_generator.samples // BATCH_SIZE,\n",
    "    validation_data=test_generator,\n",
    "    validation_steps=test_generator.samples // BATCH_SIZE,\n",
    "    epochs=EPOCHS\n",
    ")\n"
   ]
  },
  {
   "cell_type": "code",
   "execution_count": 5,
   "id": "2adf5659",
   "metadata": {},
   "outputs": [
    {
     "name": "stdout",
     "output_type": "stream",
     "text": [
      "4/4 [==============================] - 5s 980ms/step - loss: 0.8522 - accuracy: 0.8516\n",
      "Validation Loss: 0.8521666526794434\n",
      "Validation Accuracy: 0.8515625\n"
     ]
    }
   ],
   "source": [
    "# Evaluate the model on the validation set\n",
    "loss, accuracy = model.evaluate(test_generator, steps=test_generator.samples // BATCH_SIZE)\n",
    "print(f'Validation Loss: {loss}')\n",
    "print(f'Validation Accuracy: {accuracy}')\n"
   ]
  },
  {
   "cell_type": "code",
   "execution_count": 6,
   "id": "594ca569",
   "metadata": {},
   "outputs": [
    {
     "name": "stderr",
     "output_type": "stream",
     "text": [
      "C:\\Users\\Idriss\\anaconda3\\lib\\site-packages\\keras\\src\\engine\\training.py:3079: UserWarning: You are saving your model as an HDF5 file via `model.save()`. This file format is considered legacy. We recommend using instead the native Keras format, e.g. `model.save('my_model.keras')`.\n",
      "  saving_api.save_model(\n"
     ]
    }
   ],
   "source": [
    "# Save the model\n",
    "model.save('dog_cat_classifier_vgg16.h5')\n"
   ]
  },
  {
   "cell_type": "code",
   "execution_count": 2,
   "id": "1bcec3b5",
   "metadata": {},
   "outputs": [
    {
     "name": "stdout",
     "output_type": "stream",
     "text": [
      "1/1 [==============================] - 1s 796ms/step\n",
      "The image is a: Dog\n"
     ]
    }
   ],
   "source": [
    "from tensorflow.keras.preprocessing import image\n",
    "from tensorflow.keras.models import load_model\n",
    "from tkinter import Tk, filedialog\n",
    "import numpy as np\n",
    "\n",
    "# Load the trained model\n",
    "model = load_model('dog_cat_classifier_vgg16.h5')\n",
    "\n",
    "def preprocess_image(img_path):\n",
    "    # Load the image with target size\n",
    "    img = image.load_img(img_path, target_size=(150, 150))\n",
    "    # Convert the image to array\n",
    "    img_array = image.img_to_array(img)\n",
    "    # Expand dimensions to match the model's input shape\n",
    "    img_array = np.expand_dims(img_array, axis=0)\n",
    "    # Rescale the image\n",
    "    img_array /= 255.0\n",
    "    return img_array\n",
    "\n",
    "def predict_image(model, img_path):\n",
    "    # Preprocess the image\n",
    "    processed_image = preprocess_image(img_path)\n",
    "    # Make a prediction\n",
    "    prediction = model.predict(processed_image)\n",
    "    # Determine the class based on the prediction\n",
    "    if prediction[0] > 0.5:\n",
    "        return \"Dog\"\n",
    "    else:\n",
    "        return \"Cat\"\n",
    "\n",
    "def choose_image():\n",
    "    # Create a Tkinter root window (hidden)\n",
    "    root = Tk()\n",
    "    root.withdraw()  # Hide the root window\n",
    "    # Open file dialog and return the selected file path\n",
    "    file_path = filedialog.askopenfilename(title=\"Choose an image\",\n",
    "                                           filetypes=[(\"Image files\", \"*.jpg;*.jpeg;*.png\")])\n",
    "    return file_path\n",
    "\n",
    "# Select an image\n",
    "img_path = choose_image()\n",
    "\n",
    "# Check if a file was selected\n",
    "if img_path:\n",
    "    # Predict the class\n",
    "    result = predict_image(model, img_path)\n",
    "    print(f'The image is a: {result}')\n",
    "else:\n",
    "    print(\"No image selected.\")\n"
   ]
  },
  {
   "cell_type": "code",
   "execution_count": null,
   "id": "09b9f5d4",
   "metadata": {},
   "outputs": [],
   "source": []
  }
 ],
 "metadata": {
  "kernelspec": {
   "display_name": "Python 3 (ipykernel)",
   "language": "python",
   "name": "python3"
  },
  "language_info": {
   "codemirror_mode": {
    "name": "ipython",
    "version": 3
   },
   "file_extension": ".py",
   "mimetype": "text/x-python",
   "name": "python",
   "nbconvert_exporter": "python",
   "pygments_lexer": "ipython3",
   "version": "3.10.9"
  }
 },
 "nbformat": 4,
 "nbformat_minor": 5
}
